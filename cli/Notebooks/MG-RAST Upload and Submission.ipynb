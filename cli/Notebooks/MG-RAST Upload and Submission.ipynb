{
 "cells": [
  {
   "cell_type": "markdown",
   "metadata": {},
   "source": [
    "# Metagenome upload and submission"
   ]
  },
  {
   "cell_type": "markdown",
   "metadata": {},
   "source": [
    "- ftp://ftp.metagenomics.anl.gov/tools/upload/README\n",
    "- ftp://ftp.metagenomics.anl.gov/tools/upload/mg-inbox.py\n",
    "- https://github.com/MG-RAST/MG-RAST-Tools/archive/master.zip"
   ]
  },
  {
   "cell_type": "code",
   "execution_count": 1,
   "metadata": {
    "collapsed": false
   },
   "outputs": [
    {
     "name": "stdout",
     "output_type": "stream",
     "text": [
      "  % Total    % Received % Xferd  Average Speed   Time    Time     Time  Current\n",
      "                                 Dload  Upload   Total   Spent    Left  Speed\n",
      "100  3079  100  3079    0     0  49445      0 --:--:-- --:--:-- --:--:-- 49661\n",
      "************************************************************************\n",
      "\n",
      "MG-RAST Token:\n",
      "\n",
      "In order to download private data or upload any data the user has to authenticate\n",
      "with an MG-RAST token. The token is available from the “Account Management” ->\n",
      "“Manage personal preferences” ->“Web Services” -> “authentication key” page via MG-RAST Web site.\n",
      "\n",
      "************************************************************************\n",
      "************************************************************************\n"
     ]
    }
   ],
   "source": [
    "! curl ftp://ftp.metagenomics.anl.gov/tools/upload/README | head"
   ]
  },
  {
   "cell_type": "code",
   "execution_count": 5,
   "metadata": {
    "collapsed": false
   },
   "outputs": [
    {
     "name": "stdout",
     "output_type": "stream",
     "text": [
      "  % Total    % Received % Xferd  Average Speed   Time    Time     Time  Current\n",
      "                                 Dload  Upload   Total   Spent    Left  Speed\n",
      "100 22540  100 22540    0     0   430k      0 --:--:-- --:--:-- --:--:--  431k\n"
     ]
    }
   ],
   "source": [
    "! curl ftp://ftp.metagenomics.anl.gov/tools/upload/mg-inbox.py > scripts/mg-inbox.py"
   ]
  },
  {
   "cell_type": "markdown",
   "metadata": {},
   "source": [
    "# The inbox CLI"
   ]
  },
  {
   "cell_type": "markdown",
   "metadata": {},
   "source": [
    "Every command line script is equippt with a help option. Just call the script with --help."
   ]
  },
  {
   "cell_type": "code",
   "execution_count": 7,
   "metadata": {
    "collapsed": false
   },
   "outputs": [
    {
     "name": "stdout",
     "output_type": "stream",
     "text": [
      "\r\n",
      "NAME\r\n",
      "    mg-inbox\r\n",
      "\r\n",
      "VERSION\r\n",
      "    1\r\n",
      "\r\n",
      "SYNOPSIS\r\n",
      "    mg-inbox\r\n",
      "        --help\r\n",
      "        login [--token <auth token>]\r\n",
      "        view all\r\n",
      "        view sequence\r\n",
      "        upload <file> <file> ...\r\n",
      "        upload-archive <archive file>\r\n",
      "        rename <file id> <new name>\r\n",
      "        validate sequence <seq file id> <seq file id> ...\r\n",
      "        validate metadata <excel file id> <excel file id> ...\r\n",
      "        compute sff2fastq <sff file id>\r\n",
      "        compute demultiplex <seq file id> <barcode file id> [<index file id>, --rc_index]\r\n",
      "        compute pairjoin <pair1 seq file id> <pair2 seq file id> [--retain, --joinfile <filename>]\r\n",
      "        compute pairjoin_demultiplex <pair1 seq file id> <pair2 seq file id> <index file id> <barcode file id> [--retain, --rc_index]\r\n",
      "        delete <file id> <file id> ...\r\n",
      "        submit <file id> <file id> ... [--project <project id>, --metadata <file id>]\r\n",
      "\r\n",
      "DESCRIPTION\r\n",
      "    MG-RAST inbox operations\r\n",
      "    \r\n",
      "    supported file types  |     extensions\r\n",
      "    ----------------------|--------------------------\r\n",
      "        sequence          |  .fasta, .fastq\r\n",
      "        excel             |  .xls, .xlsx\r\n",
      "        plain text        |  .txt, .barcode\r\n",
      "        gzip compressed   |  .gz\r\n",
      "        bzip2 compressed  |  .bz2\r\n",
      "        zip archive       |  .zip\r\n",
      "        tar archive       |  .tar, .tar.gz, .tar.bz2\r\n",
      "\r\n",
      "Options:\r\n",
      "  -h, --help            show this help message and exit\r\n",
      "  -u MGRAST_URL, --mgrast_url=MGRAST_URL\r\n",
      "                        MG-RAST API url\r\n",
      "  -s SHOCK_URL, --shock_url=SHOCK_URL\r\n",
      "                        Shock API url\r\n",
      "  -t TOKEN, --token=TOKEN\r\n",
      "                        MG-RAST token\r\n",
      "  -p PROJECT, --project=PROJECT\r\n",
      "                        project ID\r\n",
      "  -m METADATA, --metadata=METADATA\r\n",
      "                        metadata file ID\r\n",
      "  -j JOINFILE, --joinfile=JOINFILE\r\n",
      "                        name of resulting pair-merge file (without extension), default is <pair 1 filename>_<pair 2 filename>\r\n",
      "  --retain              retain non-overlapping sequences in pair-merge\r\n",
      "  --rc_index            barcodes in index file are reverse compliment of mapping file\r\n",
      "\r\n",
      "Output\r\n",
      "    Status of command\r\n",
      "      OR\r\n",
      "    List contents of inbox \r\n",
      "\r\n",
      "EXAMPLES\r\n",
      "    mg-inbox view all\r\n",
      "\r\n",
      "SEE ALSO\r\n",
      "    -\r\n",
      "\r\n",
      "AUTHORS\r\n",
      "    Jared Bischof, Travis Harrison, Folker Meyer, Tobias Paczian, Andreas Wilke\r\n"
     ]
    }
   ],
   "source": [
    "! python ./scripts/mg-inbox.py --help"
   ]
  },
  {
   "cell_type": "code",
   "execution_count": null,
   "metadata": {
    "collapsed": true
   },
   "outputs": [],
   "source": []
  }
 ],
 "metadata": {
  "kernelspec": {
   "display_name": "Python 2",
   "language": "python",
   "name": "python2"
  },
  "language_info": {
   "codemirror_mode": {
    "name": "ipython",
    "version": 2
   },
   "file_extension": ".py",
   "mimetype": "text/x-python",
   "name": "python",
   "nbconvert_exporter": "python",
   "pygments_lexer": "ipython2",
   "version": "2.7.8"
  }
 },
 "nbformat": 4,
 "nbformat_minor": 0
}
